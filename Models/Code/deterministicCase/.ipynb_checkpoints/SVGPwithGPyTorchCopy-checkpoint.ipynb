version https://git-lfs.github.com/spec/v1
oid sha256:51fe02be58784fbfb82c9d1fa8473bf392d9dd1a62786767aa692ccf21e41c86
size 1024030
