version https://git-lfs.github.com/spec/v1
oid sha256:06a7e5335c5b57a8bb9d6948e6762b36ed9d92c2421ab9d6ce4c821580ce95e6
size 1367562
